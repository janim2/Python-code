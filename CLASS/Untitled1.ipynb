{
 "cells": [
  {
   "cell_type": "code",
   "execution_count": 18,
   "metadata": {},
   "outputs": [
    {
     "name": "stdout",
     "output_type": "stream",
     "text": [
      "Enter first Interval: 0\n",
      "Enter Second Interval: 5\n",
      "Enter Formularcos(x)-x*e^x\n",
      "+------------+-------+---+----------+-------+----------+-------------+\n",
      "| iterations |   a   | b | Midpoint | f(a)  |   f(b)   | f(midpoint) |\n",
      "+------------+-------+---+----------+-------+----------+-------------+\n",
      "|     0      |   0   | 5 |    0     |  1.0  | -741.782 |     1.0     |\n",
      "+------------+-------+---+----------+-------+----------+-------------+\n",
      "|     1      | 0.007 | 5 |  0.007   | 0.993 | -741.782 |    0.993    |\n",
      "+------------+-------+---+----------+-------+----------+-------------+\n",
      "|     2      | 0.013 | 5 |  0.013   | 0.986 | -741.782 |    0.986    |\n",
      "+------------+-------+---+----------+-------+----------+-------------+\n",
      "|     3      | 0.02  | 5 |   0.02   | 0.979 | -741.782 |    0.979    |\n",
      "+------------+-------+---+----------+-------+----------+-------------+\n",
      "|     4      | 0.027 | 5 |  0.027   | 0.972 | -741.782 |    0.972    |\n",
      "+------------+-------+---+----------+-------+----------+-------------+\n",
      "The value of root is :  0.033106826342477025\n"
     ]
    }
   ],
   "source": [
    "import math\n",
    "from beautifultable import BeautifulTable\n",
    "\n",
    "table = BeautifulTable()\n",
    "table.column_headers = [\"iterations\", \"a\", \"b\", \"Midpoint\", \"f(a)\", \"f(b)\", \"f(midpoint)\"]\n",
    "\n",
    "the_a = int(input(\"Enter first Interval: \"))\n",
    "the_b = int(input(\"Enter Second Interval: \"))\n",
    "the_formular = input(\"Enter Formular\")\n",
    "the_formular = the_formular.replace('cos(x)','math.cos(x)')\n",
    "the_formular = the_formular.replace('^','**')\n",
    "the_formular = the_formular.replace('e','2.718281828')\n",
    "# math.cos(x) - x * math.e ** x\n",
    "\n",
    "def func(x):\n",
    "    return(eval(the_formular))\n",
    "    #return(x*math.e**2 - 1)\n",
    "\n",
    "# Prints root of func(x) in interval [a, b] \n",
    "def FalsePosition(the_a , the_b): \n",
    "    if func(the_a) * func(the_b) >= 0: \n",
    "        print(\"You have not assumed right a and b\") \n",
    "        return -1\n",
    "      \n",
    "    root = the_a # Initialize result \n",
    "      \n",
    "    for i in range(5): \n",
    "          \n",
    "        table.append_row([i,the_a,the_b,root,func(the_a),func(the_b),func(root)])\n",
    "\n",
    "        # Find the point that touches x axis \n",
    "        root = (the_a * func(the_b) - the_b * func(the_a))/ (func(the_b) - func(the_a)) \n",
    "          \n",
    "        # Check if the above found point is root \n",
    "        if func(root) == 0: \n",
    "            break\n",
    "          \n",
    "        # Decide the side to repeat the steps \n",
    "        elif func(root) * func(the_a) < 0: \n",
    "            the_b = root\n",
    "        else: \n",
    "            the_a = root \n",
    "    print(table)\n",
    "    print(\"The value of root is : \" , root) \n",
    "FalsePosition(0,5)\n",
    "    \n",
    "    "
   ]
  },
  {
   "cell_type": "code",
   "execution_count": 4,
   "metadata": {},
   "outputs": [
    {
     "name": "stdout",
     "output_type": "stream",
     "text": [
      "\n",
      "\n",
      "        GROUP MEMEBERS\n",
      "Dominic Antwi Boasiako ---->  1644917\n",
      "Theodora Yeboah        ---->  1659617\n",
      "Emmanuel Kojo Manful   ---->  1661417\n",
      "William Kyei           ---->  1652217\n",
      "\n"
     ]
    }
   ],
   "source": [
    "print( \"\"\"\n",
    "\n",
    "        GROUP MEMEBERS\n",
    "Dominic Antwi Boasiako ---->  1644917\n",
    "Theodora Yeboah        ---->  1659617\n",
    "Emmanuel Kojo Manful   ---->  1661417\n",
    "William Kyei           ---->  1652217\n",
    "\"\"\")\n"
   ]
  },
  {
   "cell_type": "code",
   "execution_count": null,
   "metadata": {},
   "outputs": [],
   "source": []
  },
  {
   "cell_type": "code",
   "execution_count": null,
   "metadata": {},
   "outputs": [],
   "source": []
  }
 ],
 "metadata": {
  "kernelspec": {
   "display_name": "Python 3",
   "language": "python",
   "name": "python3"
  },
  "language_info": {
   "codemirror_mode": {
    "name": "ipython",
    "version": 3
   },
   "file_extension": ".py",
   "mimetype": "text/x-python",
   "name": "python",
   "nbconvert_exporter": "python",
   "pygments_lexer": "ipython3",
   "version": "3.7.1"
  }
 },
 "nbformat": 4,
 "nbformat_minor": 2
}

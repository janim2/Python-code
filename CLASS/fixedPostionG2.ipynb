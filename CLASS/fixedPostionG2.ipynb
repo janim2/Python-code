{
 "cells": [
  {
   "cell_type": "raw",
   "metadata": {},
   "source": [
    "# Group Members\n",
    "\n",
    "Dominic Antwi Boasiako ---->  1644917\n",
    "Theodora Yeboah        ---->  1659617\n",
    "Emmanuel Kojo Manful   ---->  1661417\n",
    "William Kyei           ---->  1652217"
   ]
  },
  {
   "cell_type": "code",
   "execution_count": 10,
   "metadata": {},
   "outputs": [
    {
     "name": "stdout",
     "output_type": "stream",
     "text": [
      "The root is: \n"
     ]
    },
    {
     "data": {
      "text/plain": [
       "-2"
      ]
     },
     "execution_count": 10,
     "metadata": {},
     "output_type": "execute_result"
    }
   ],
   "source": [
    "import math\n",
    "\n",
    "def g(x):\n",
    "    return x**3 + 1 - math.sin(x)\n",
    "\n",
    "def fixed_position_i(interval_a, interval_b):\n",
    "    for i in range(interval_b):\n",
    "        print(i, interval_a, g(interval_a))\n",
    "        interval_a = g(interval_a)\n",
    "    print('The root is: ')\n",
    "    return interval_a\n",
    "fixed_position_i(-2,-1)"
   ]
  },
  {
   "cell_type": "code",
   "execution_count": null,
   "metadata": {},
   "outputs": [],
   "source": []
  },
  {
   "cell_type": "code",
   "execution_count": null,
   "metadata": {},
   "outputs": [],
   "source": []
  }
 ],
 "metadata": {
  "kernelspec": {
   "display_name": "Python 3",
   "language": "python",
   "name": "python3"
  },
  "language_info": {
   "codemirror_mode": {
    "name": "ipython",
    "version": 3
   },
   "file_extension": ".py",
   "mimetype": "text/x-python",
   "name": "python",
   "nbconvert_exporter": "python",
   "pygments_lexer": "ipython3",
   "version": "3.7.1"
  }
 },
 "nbformat": 4,
 "nbformat_minor": 2
}

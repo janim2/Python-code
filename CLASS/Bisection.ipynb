{
 "cells": [
  {
   "cell_type": "code",
   "execution_count": 1,
   "metadata": {},
   "outputs": [],
   "source": [
    "import math\n",
    "from beautifultable import BeautifulTable\n",
    "# function by name theBisectionMethod that uses the bisection method to find the root of a function\n",
    "\n",
    "table = BeautifulTable()\n",
    "def give_input():\n",
    "    interval_a = input(\"Enter first interval: \")\n",
    "    interval_b = input(\"Enter second interval: \")\n",
    "    theBisectionMethod(float(interval_a),float(interval_b))\n",
    "    \n",
    "def theBisectionMethod(firstInterval,secondInterval):\n",
    "    theFunction = lambda x: x*math.e**2 - math.cos(x)\n",
    "#     theFunction = \"x*e^2-cos(x)\"\n",
    "#     theFunction = theFunction.replace('cos(x)','cos((x*pi)/180)')\n",
    "#     theFunction = theFunction.replace('^','**')\n",
    "\n",
    "    if(theFunction(firstInterval) * theFunction(secondInterval) >= 0):\n",
    "        print(\"Bisection Failed\")\n",
    "    else:\n",
    "        ai = firstInterval\n",
    "        bi = secondInterval\n",
    "\n",
    "    \n",
    "#initialization of the five iterations\n",
    "        for a in range(1,6):\n",
    "        \n",
    "            midpoint = (ai + bi)/2        \n",
    "            table.column_headers = [\"no\", \"ai\", \"bi\",\"xi\",\"fai\",\"fbi\",\"fxi\"]\n",
    "            table.append_row([a,ai,bi,midpoint,theFunction(ai),theFunction(bi),theFunction(midpoint)])\n",
    "\n",
    "            fxi = theFunction(midpoint)\n",
    "            if(abs(theFunction(ai) * fxi < 0)):\n",
    "                ai = ai\n",
    "                bi = midpoint\n",
    "            elif(abs(theFunction(bi) * fxi < 0)):\n",
    "                ai = midpoint\n",
    "                bi = bi\n",
    "            elif(fxi == 0):\n",
    "                return \"The root = \" + midpoint\n",
    "            else:\n",
    "                print(\"Bisection Failed\")\n",
    "                \n",
    "#displaying the 1st five iterations in a tabular form.\n",
    "        print(table)\n",
    "                \n",
    "        print(\"The root = \" + str(midpoint))\n",
    "    \n",
    "            \n",
    "    "
   ]
  },
  {
   "cell_type": "code",
   "execution_count": 119,
   "metadata": {},
   "outputs": [
    {
     "name": "stdout",
     "output_type": "stream",
     "text": [
      "Enter first interval: 0\n",
      "Enter second interval: 5\n",
      "+----+-----+-------+-------+------+--------+--------+\n",
      "| no | ai  |  bi   |  xi   | fai  |  fbi   |  fxi   |\n",
      "+----+-----+-------+-------+------+--------+--------+\n",
      "| 1  | 0.0 |  5.0  |  2.5  | -1.0 | 36.662 | 19.274 |\n",
      "+----+-----+-------+-------+------+--------+--------+\n",
      "| 2  | 0.0 |  2.5  | 1.25  | -1.0 | 19.274 | 8.921  |\n",
      "+----+-----+-------+-------+------+--------+--------+\n",
      "| 3  | 0.0 | 1.25  | 0.625 | -1.0 | 8.921  | 3.807  |\n",
      "+----+-----+-------+-------+------+--------+--------+\n",
      "| 4  | 0.0 | 0.625 | 0.312 | -1.0 | 3.807  | 1.358  |\n",
      "+----+-----+-------+-------+------+--------+--------+\n",
      "| 5  | 0.0 | 0.312 | 0.156 | -1.0 | 1.358  | 0.167  |\n",
      "+----+-----+-------+-------+------+--------+--------+\n",
      "The root = 0.15625\n"
     ]
    }
   ],
   "source": [
    "give_input()\n",
    "#theBisectionMethod(f,0,5)"
   ]
  },
  {
   "cell_type": "code",
   "execution_count": null,
   "metadata": {},
   "outputs": [],
   "source": [
    "print(\"\"\"           \n",
    "                    13th February, 2019\n",
    "\n",
    "                    Group Members\n",
    "            Aberor Norbet Eugene  ---->  1640117\n",
    "            Jesse Anim            ---->  1644417\n",
    "            Anumba Prince         ---->  1645017\n",
    "            Nadia Opata           ---->  1655317\n",
    "            Dominic Antwi Boasiako---->  1644917\n",
    "            Theodora Yeboah       ---->  1659617\n",
    "\n",
    "\"\"\")"
   ]
  },
  {
   "cell_type": "markdown",
   "metadata": {},
   "source": [
    "Other"
   ]
  },
  {
   "cell_type": "code",
   "execution_count": 7,
   "metadata": {},
   "outputs": [
    {
     "name": "stdout",
     "output_type": "stream",
     "text": [
      "Enter first interval: 0\n",
      "Enter second interval: 5\n",
      "Enter the expression: x*e^2-cos(x)\n"
     ]
    }
   ],
   "source": [
    "\n",
    "import math\n",
    "from beautifultable import BeautifulTable\n",
    "# function by name theBisectionMethod that uses the bisection method to find the root of a function\n",
    "\n",
    "table = BeautifulTable()\n",
    "\n",
    "interval_a = float(input(\"Enter first interval: \"))\n",
    "interval_b = float(input(\"Enter second interval: \"))\n",
    "formular = input(\"Enter the expression: \")\n",
    "\n",
    "formular = formular.replace('cos(x)','cos((x*pi)/180)')\n",
    "formular = formular.replace('^','**')\n",
    "    \n",
    "def theBisectionMethod():\n",
    "    \n",
    "    if(eval(formular) * eval(formular) > 0):\n",
    "        print(\"Bisection Failed\")\n",
    "    else:\n",
    "        ai = interval_a\n",
    "        bi = interval_b\n",
    "    \n",
    "#initialization of the five iterations\n",
    "        for a in range(1,6):\n",
    "        \n",
    "        \n",
    "            midpoint = (ai + bi)/2        \n",
    "            table.column_headers = [\"no\", \"ai\", \"bi\",\"xi\",\"fai\",\"fbi\",\"fxi\"]\n",
    "            table.append_row([a,ai,bi,midpoint,theFunction(ai),theFunction(bi),theFunction(midpoint)])\n",
    "\n",
    "            fxi = eval(formular)\n",
    "            if(eval(formular) * fxi < 0):\n",
    "                ai = ai\n",
    "                bi = midpoint\n",
    "            elif(eval(formular) * fxi < 0):\n",
    "                ai = midpoint\n",
    "                bi = bi\n",
    "            elif(fxi == 0):\n",
    "                return \"The root = \" + midpoint\n",
    "            else:\n",
    "                print(\"Bisection Failed\")\n",
    "                \n",
    "#displaying the 1st five iterations in a tabular form.\n",
    "        print(table)\n",
    "                \n",
    "        print(\"The root = \" + str(midpoint))\n",
    "    \n",
    "            \n",
    "    "
   ]
  },
  {
   "cell_type": "code",
   "execution_count": 6,
   "metadata": {},
   "outputs": [
    {
     "name": "stdout",
     "output_type": "stream",
     "text": [
      "Enter first interval: 0\n",
      "Enter second interval: 5\n",
      "Enter the expression: x*e^2-cos(x)\n"
     ]
    },
    {
     "ename": "NameError",
     "evalue": "name 'x' is not defined",
     "output_type": "error",
     "traceback": [
      "\u001b[0;31m---------------------------------------------------------------------------\u001b[0m",
      "\u001b[0;31mNameError\u001b[0m                                 Traceback (most recent call last)",
      "\u001b[0;32m<ipython-input-6-4d63cda54abf>\u001b[0m in \u001b[0;36m<module>\u001b[0;34m\u001b[0m\n\u001b[0;32m----> 1\u001b[0;31m \u001b[0mgive_input\u001b[0m\u001b[0;34m(\u001b[0m\u001b[0;34m)\u001b[0m\u001b[0;34m\u001b[0m\u001b[0;34m\u001b[0m\u001b[0m\n\u001b[0m",
      "\u001b[0;32m<ipython-input-5-5f1753c5a13a>\u001b[0m in \u001b[0;36mgive_input\u001b[0;34m()\u001b[0m\n\u001b[1;32m     12\u001b[0m     \u001b[0mformular\u001b[0m \u001b[0;34m=\u001b[0m \u001b[0mformular\u001b[0m\u001b[0;34m.\u001b[0m\u001b[0mreplace\u001b[0m\u001b[0;34m(\u001b[0m\u001b[0;34m'cos(x)'\u001b[0m\u001b[0;34m,\u001b[0m\u001b[0;34m'cos((x*pi)/180)'\u001b[0m\u001b[0;34m)\u001b[0m\u001b[0;34m\u001b[0m\u001b[0;34m\u001b[0m\u001b[0m\n\u001b[1;32m     13\u001b[0m     \u001b[0mformular\u001b[0m \u001b[0;34m=\u001b[0m \u001b[0mformular\u001b[0m\u001b[0;34m.\u001b[0m\u001b[0mreplace\u001b[0m\u001b[0;34m(\u001b[0m\u001b[0;34m'^'\u001b[0m\u001b[0;34m,\u001b[0m\u001b[0;34m'**'\u001b[0m\u001b[0;34m)\u001b[0m\u001b[0;34m\u001b[0m\u001b[0;34m\u001b[0m\u001b[0m\n\u001b[0;32m---> 14\u001b[0;31m     \u001b[0mtheBisectionMethod\u001b[0m\u001b[0;34m(\u001b[0m\u001b[0mformular\u001b[0m\u001b[0;34m,\u001b[0m \u001b[0minterval_a\u001b[0m\u001b[0;34m,\u001b[0m\u001b[0minterval_b\u001b[0m\u001b[0;34m)\u001b[0m\u001b[0;34m\u001b[0m\u001b[0;34m\u001b[0m\u001b[0m\n\u001b[0m\u001b[1;32m     15\u001b[0m \u001b[0;34m\u001b[0m\u001b[0m\n\u001b[1;32m     16\u001b[0m \u001b[0;32mdef\u001b[0m \u001b[0mtheBisectionMethod\u001b[0m\u001b[0;34m(\u001b[0m\u001b[0mformular\u001b[0m\u001b[0;34m,\u001b[0m\u001b[0mfirstInterval\u001b[0m\u001b[0;34m,\u001b[0m\u001b[0msecondInterval\u001b[0m\u001b[0;34m)\u001b[0m\u001b[0;34m:\u001b[0m\u001b[0;34m\u001b[0m\u001b[0;34m\u001b[0m\u001b[0m\n",
      "\u001b[0;32m<ipython-input-5-5f1753c5a13a>\u001b[0m in \u001b[0;36mtheBisectionMethod\u001b[0;34m(formular, firstInterval, secondInterval)\u001b[0m\n\u001b[1;32m     16\u001b[0m \u001b[0;32mdef\u001b[0m \u001b[0mtheBisectionMethod\u001b[0m\u001b[0;34m(\u001b[0m\u001b[0mformular\u001b[0m\u001b[0;34m,\u001b[0m\u001b[0mfirstInterval\u001b[0m\u001b[0;34m,\u001b[0m\u001b[0msecondInterval\u001b[0m\u001b[0;34m)\u001b[0m\u001b[0;34m:\u001b[0m\u001b[0;34m\u001b[0m\u001b[0;34m\u001b[0m\u001b[0m\n\u001b[1;32m     17\u001b[0m \u001b[0;34m\u001b[0m\u001b[0m\n\u001b[0;32m---> 18\u001b[0;31m     \u001b[0;32mif\u001b[0m\u001b[0;34m(\u001b[0m\u001b[0meval\u001b[0m\u001b[0;34m(\u001b[0m\u001b[0mformular\u001b[0m\u001b[0;34m)\u001b[0m \u001b[0;34m*\u001b[0m \u001b[0meval\u001b[0m\u001b[0;34m(\u001b[0m\u001b[0mformular\u001b[0m\u001b[0;34m)\u001b[0m \u001b[0;34m>\u001b[0m \u001b[0;36m0\u001b[0m\u001b[0;34m)\u001b[0m\u001b[0;34m:\u001b[0m\u001b[0;34m\u001b[0m\u001b[0;34m\u001b[0m\u001b[0m\n\u001b[0m\u001b[1;32m     19\u001b[0m         \u001b[0mprint\u001b[0m\u001b[0;34m(\u001b[0m\u001b[0;34m\"Bisection Failed\"\u001b[0m\u001b[0;34m)\u001b[0m\u001b[0;34m\u001b[0m\u001b[0;34m\u001b[0m\u001b[0m\n\u001b[1;32m     20\u001b[0m     \u001b[0;32melse\u001b[0m\u001b[0;34m:\u001b[0m\u001b[0;34m\u001b[0m\u001b[0;34m\u001b[0m\u001b[0m\n",
      "\u001b[0;32m<string>\u001b[0m in \u001b[0;36m<module>\u001b[0;34m\u001b[0m\n",
      "\u001b[0;31mNameError\u001b[0m: name 'x' is not defined"
     ]
    }
   ],
   "source": [
    "give_input()"
   ]
  },
  {
   "cell_type": "code",
   "execution_count": null,
   "metadata": {},
   "outputs": [],
   "source": []
  }
 ],
 "metadata": {
  "kernelspec": {
   "display_name": "Python 3",
   "language": "python",
   "name": "python3"
  },
  "language_info": {
   "codemirror_mode": {
    "name": "ipython",
    "version": 3
   },
   "file_extension": ".py",
   "mimetype": "text/x-python",
   "name": "python",
   "nbconvert_exporter": "python",
   "pygments_lexer": "ipython3",
   "version": "3.7.1"
  }
 },
 "nbformat": 4,
 "nbformat_minor": 2
}

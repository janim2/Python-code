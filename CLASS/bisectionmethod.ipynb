{
 "cells": [
  {
   "cell_type": "markdown",
   "metadata": {},
   "source": [
    "### GROUP MEMBERS\n",
    "- Emmanuel Kyeremeh -1652317\n",
    "- Emmanuel Ameyaw - 1643617\n",
    "- Eric Annan -1661317\n",
    "- Ransford Akwasi Agyemang-1662017\n",
    "- Godbless Amankwaah-1643217\n"
   ]
  },
  {
   "cell_type": "code",
   "execution_count": 19,
   "metadata": {},
   "outputs": [
    {
     "name": "stdout",
     "output_type": "stream",
     "text": [
      "Input the first value of the interval:0\n",
      "Input the second value of the interval:5\n",
      "Enter the expression:x*e^x-cos(x)\n",
      "The root is: 0.5670928955078125\n",
      "+------------+-------+-------+----------+--------+--------+-------------+\n",
      "| iterations |   a   |   b   | Midpoint |  f(a)  |  f(b)  | f(midpoint) |\n",
      "+------------+-------+-------+----------+--------+--------+-------------+\n",
      "|     0      |  0.0  |  5.0  |   2.5    |  -1.0  | 741.07 |   29.457    |\n",
      "+------------+-------+-------+----------+--------+--------+-------------+\n",
      "|     1      |  0.0  |  2.5  |   1.25   |  -1.0  | 29.457 |    3.363    |\n",
      "+------------+-------+-------+----------+--------+--------+-------------+\n",
      "|     2      |  0.0  | 1.25  |  0.625   |  -1.0  | 3.363  |    0.168    |\n",
      "+------------+-------+-------+----------+--------+--------+-------------+\n",
      "|     3      |  0.0  | 0.625 |  0.312   |  -1.0  | 0.168  |   -0.573    |\n",
      "+------------+-------+-------+----------+--------+--------+-------------+\n",
      "|     4      | 0.312 | 0.625 |  0.469   | -0.573 | 0.168  |   -0.251    |\n",
      "+------------+-------+-------+----------+--------+--------+-------------+\n",
      "|     5      | 0.469 | 0.625 |  0.547   | -0.251 | 0.168  |   -0.055    |\n",
      "+------------+-------+-------+----------+--------+--------+-------------+\n"
     ]
    }
   ],
   "source": [
    "from beautifultable import BeautifulTable\n",
    "from math import *\n",
    "\n",
    "table = BeautifulTable()\n",
    "table.column_headers = [\"iterations\", \"a\", \"b\", \"Midpoint\", \"f(a)\", \"f(b)\", \"f(midpoint)\"]\n",
    "\n",
    "a=float(input(\"Input the first value of the interval:\"))\n",
    "b=float(input(\"Input the second value of the interval:\"))\n",
    "\n",
    "exp=input(\"Enter the expression:\")\n",
    "\n",
    "exp=exp.replace('cos(x)','cos((x*pi)/180)') \n",
    "exp =exp.replace('^', '**')\n",
    " \n",
    "# tol\n",
    "tol = 0.0001\n",
    "\n",
    "#iterations\n",
    "count = 0\n",
    "\n",
    "def bisection_method():\n",
    "    global a, b, count, tol, exp\n",
    "    while True:    \n",
    "        x = a\n",
    "        func_a = round(eval(exp), 4)\n",
    "    \n",
    "        x = b\n",
    "        func_b = round(eval(exp), 4)\n",
    "\n",
    "        if (func_a * func_b) > 0:\n",
    "            print(\"Doesn't have a root \\ntry again\")\n",
    "            return None\n",
    "            break\n",
    "    \n",
    "        midpoint = (a + b) / 2\n",
    "        x = midpoint\n",
    "        func_midpoint = round(eval(exp), 4)\n",
    "    \n",
    "        # counts iterations\n",
    "        if(count < 6):\n",
    "            table.append_row([count, a, b, midpoint, func_a, func_b, func_midpoint])\n",
    "            count += 1\n",
    "    \n",
    "        if (func_a * func_midpoint) < 0:\n",
    "            b = midpoint\n",
    "        else:\n",
    "            a = midpoint\n",
    "    \n",
    "        second_midpoint = (a + b) / 2\n",
    "    \n",
    "        if abs((second_midpoint - midpoint)) < tol:\n",
    "            return second_midpoint\n",
    "            break\n",
    "\n",
    "root_answer = bisection_method()\n",
    "print(\"The root is: \" + str(root_answer))\n",
    "    \n",
    "print(table)\n",
    "            "
   ]
  },
  {
   "cell_type": "code",
   "execution_count": null,
   "metadata": {},
   "outputs": [],
   "source": []
  }
 ],
 "metadata": {
  "kernelspec": {
   "display_name": "Python 3",
   "language": "python",
   "name": "python3"
  },
  "language_info": {
   "codemirror_mode": {
    "name": "ipython",
    "version": 3
   },
   "file_extension": ".py",
   "mimetype": "text/x-python",
   "name": "python",
   "nbconvert_exporter": "python",
   "pygments_lexer": "ipython3",
   "version": "3.7.1"
  }
 },
 "nbformat": 4,
 "nbformat_minor": 2
}

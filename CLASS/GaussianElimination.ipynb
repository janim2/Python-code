{
 "cells": [
  {
   "cell_type": "markdown",
   "metadata": {},
   "source": [
    "##GROUP MEMBERS\n",
    "\n",
    "\n",
    "- Aberor Norbet Eugene  ---->  1640117\n",
    "- Jesse Anim            ---->  1644417\n",
    "- Anumba Prince         ---->  1645017\n",
    "- Nadia Opata           ---->  1655317\n",
    "\n",
    "- Dominic Antwi Boasiako ---->  1644917\n",
    "- Theodora Yeboah        ---->  1659617\n",
    "- Emmanuel Kojo Manful   ---->  1661417\n",
    "- William Kyei           ---->  1652217"
   ]
  },
  {
   "cell_type": "code",
   "execution_count": null,
   "metadata": {},
   "outputs": [],
   "source": [
    "def linearsolver(A,b):   \n",
    "    n = len(A) \n",
    "    M = A \n",
    "\n",
    "    i = 0 \n",
    "    for x in M:\n",
    "        x.append(b[i]) \n",
    "        i += 1 \n",
    "\n",
    "    for k in range(n):  \n",
    "#         print(\"The iteration \", k)\n",
    "        for i in range(k,n): \n",
    "            if abs(M[i][k]) > abs(M[k][k]):  \n",
    "                M[k], M[i] = M[i],M[k]  \n",
    "            else: \n",
    "                pass  \n",
    "            \n",
    "#         for row in M:\n",
    "#             print(row)\n",
    "#         print(\"\")\n",
    "\n",
    "        for j in range(k+1,n):\n",
    "            q = float(M[j][k]) / M[k][k]\n",
    "            for m in range(k, n+1):         \n",
    "                M[j][m] -=  q * M[k][m]\n",
    "\n",
    "#         for row in M:\n",
    "#             print(row)\n",
    "#         print(\"\")\n",
    "\n",
    "    x = [0 for i in range(n)]\n",
    "    \n",
    "    print(\"U = \")\n",
    "    for row in M:\n",
    "        print(row)\n",
    "    \n",
    "    x[n-1] =float(M[n-1][n])/M[n-1][n-1]\n",
    "    for i in range (n-1,-1,-1): \n",
    "        z = 0 \n",
    "        for j in range(i+1,n):\n",
    "            z = z  + float(M[i][j])*x[j] \n",
    "        x[i] = float(M[i][n] - z)/M[i][i]\n",
    "    print(\"\\nThe x's = \" , x)\n",
    "    print(\"x1 = \",x[0])\n",
    "    print(\"x2 = \",x[1])\n",
    "    print(\"x3 = \",x[2])\n",
    "    print(\"x4 = \",x[3])"
   ]
  },
  {
   "cell_type": "code",
   "execution_count": null,
   "metadata": {},
   "outputs": [],
   "source": []
  },
  {
   "cell_type": "code",
   "execution_count": 41,
   "metadata": {},
   "outputs": [
    {
     "name": "stdout",
     "output_type": "stream",
     "text": [
      "U = \n",
      "[3, -1, -1, 2, -3]\n",
      "[0.0, 1.6666666666666667, 2.6666666666666665, 0.6666666666666666, 3.0]\n",
      "[0.0, 0.0, -2.9999999999999996, -0.9999999999999998, 4.440892098500626e-16]\n",
      "[0.0, 0.0, 0.0, 0.4, 0.5999999999999999]\n",
      "\n",
      "The x's =  [-1.4999999999999998, 2.0, -0.5, 1.4999999999999996]\n",
      "x1 =  -1.4999999999999998\n",
      "x2 =  2.0\n",
      "x3 =  -0.5\n",
      "x4 =  1.4999999999999996\n"
     ]
    }
   ],
   "source": [
    "A = [[1, 1, 0, 1], [2, 1, -1, 1], [-1, 2, 3, 0], [3, -1, -1, 2]]\n",
    "b = [2, 1, 4,-3]\n",
    "\n",
    "linearsolver(A,b)"
   ]
  },
  {
   "cell_type": "code",
   "execution_count": null,
   "metadata": {},
   "outputs": [],
   "source": []
  }
 ],
 "metadata": {
  "kernelspec": {
   "display_name": "Python 3",
   "language": "python",
   "name": "python3"
  },
  "language_info": {
   "codemirror_mode": {
    "name": "ipython",
    "version": 3
   },
   "file_extension": ".py",
   "mimetype": "text/x-python",
   "name": "python",
   "nbconvert_exporter": "python",
   "pygments_lexer": "ipython3",
   "version": "3.7.1"
  }
 },
 "nbformat": 4,
 "nbformat_minor": 2
}

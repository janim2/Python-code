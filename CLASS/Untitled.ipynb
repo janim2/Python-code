{
 "cells": [
  {
   "cell_type": "code",
   "execution_count": 53,
   "metadata": {},
   "outputs": [
    {
     "name": "stdout",
     "output_type": "stream",
     "text": [
      " \n",
      "\n",
      "            Group Members\n",
      "\n",
      "Aberor Norbet Eugene  ---->  1640117\n",
      "Jesse Anim            ---->  1644417\n",
      "Anumba Prince         ---->  1645017\n",
      "Nadia Opata           ---->  1655317\n",
      "\n",
      "\n"
     ]
    }
   ],
   "source": [
    "print(\"\"\" \n",
    "\n",
    "            Group Members\n",
    "\n",
    "Aberor Norbet Eugene  ---->  1640117\n",
    "Jesse Anim            ---->  1644417\n",
    "Anumba Prince         ---->  1645017\n",
    "Nadia Opata           ---->  1655317\n",
    "\n",
    "\"\"\")"
   ]
  },
  {
   "cell_type": "code",
   "execution_count": 60,
   "metadata": {},
   "outputs": [
    {
     "name": "stdout",
     "output_type": "stream",
     "text": [
      "Enter first Interval: 0\n",
      "Enter Second Interval: 5\n",
      "Enter Functioncos(x) - x * e ^ x\n",
      "+------------+-------+---+----------+-------+----------+-------------+\n",
      "| iterations |   a   | b | Midpoint | f(a)  |   f(b)   | f(midpoint) |\n",
      "+------------+-------+---+----------+-------+----------+-------------+\n",
      "|     1      |   0   | 5 |  0.993   |  1.0  | -741.782 |   -2.135    |\n",
      "+------------+-------+---+----------+-------+----------+-------------+\n",
      "|     2      | 0.007 | 5 |  0.986   | 0.993 | -741.782 |   -2.093    |\n",
      "+------------+-------+---+----------+-------+----------+-------------+\n",
      "|     3      | 0.013 | 5 |  0.979   | 0.986 | -741.782 |    -2.05    |\n",
      "+------------+-------+---+----------+-------+----------+-------------+\n",
      "|     4      | 0.02  | 5 |  0.972   | 0.979 | -741.782 |   -2.008    |\n",
      "+------------+-------+---+----------+-------+----------+-------------+\n",
      "|     5      | 0.027 | 5 |  0.965   | 0.972 | -741.782 |   -1.965    |\n",
      "+------------+-------+---+----------+-------+----------+-------------+\n"
     ]
    },
    {
     "data": {
      "text/plain": [
       "'The Root is: 0.033106826342477025'"
      ]
     },
     "execution_count": 60,
     "metadata": {},
     "output_type": "execute_result"
    }
   ],
   "source": [
    "import math\n",
    "from beautifultable import BeautifulTable\n",
    "\n",
    "table = BeautifulTable()\n",
    "table.column_headers = [\"iterations\", \"a\", \"b\", \"Midpoint\", \"f(a)\", \"f(b)\", \"f(midpoint)\"]\n",
    "\n",
    "\n",
    "interval_a = int(input(\"Enter first Interval: \"))\n",
    "interval_b = int(input(\"Enter Second Interval: \"))\n",
    "formular = input(\"Enter Function\")\n",
    "formular = formular.replace('cos(x)','math.cos(x)')\n",
    "formular = formular.replace('^','**')\n",
    "formular = formular.replace('e','2.718281828')\n",
    "# math.cos(x) - x * math.e ** x\n",
    "\n",
    "def f(x):\n",
    "    return(eval(formular))\n",
    "    #return(x*math.e**2 - 1)\n",
    "\n",
    "\n",
    "tol = 0.0001\n",
    "\n",
    "i = 1\n",
    "f_a = f(interval_a)\n",
    "\n",
    "while i <= 5:\n",
    "    the_root = (interval_a * f(interval_b) - interval_b * f(interval_a)) / (f(interval_b) - f(interval_a))\n",
    "    f_p = f(the_root)\n",
    "    \n",
    "    if(f_p < tol):\n",
    "        break\n",
    "    #else:\n",
    "        #print(f_p)\n",
    "    table.append_row([i,interval_a,interval_b,f_p,f(interval_a),f(interval_b),f(f_p)])\n",
    "    i = i + 1\n",
    "\n",
    "    \n",
    "    if(f_a * f_p > 0):\n",
    "        interval_a = the_root\n",
    "        f_a = f_p\n",
    "    else:\n",
    "        interval_b = the_root\n",
    "print(table)\n",
    "return \"The Root is: \" + str(the_root)\n"
   ]
  },
  {
   "cell_type": "code",
   "execution_count": null,
   "metadata": {},
   "outputs": [],
   "source": []
  },
  {
   "cell_type": "code",
   "execution_count": null,
   "metadata": {},
   "outputs": [],
   "source": []
  }
 ],
 "metadata": {
  "kernelspec": {
   "display_name": "Python 3",
   "language": "python",
   "name": "python3"
  },
  "language_info": {
   "codemirror_mode": {
    "name": "ipython",
    "version": 3
   },
   "file_extension": ".py",
   "mimetype": "text/x-python",
   "name": "python",
   "nbconvert_exporter": "python",
   "pygments_lexer": "ipython3",
   "version": "3.7.1"
  }
 },
 "nbformat": 4,
 "nbformat_minor": 2
}
